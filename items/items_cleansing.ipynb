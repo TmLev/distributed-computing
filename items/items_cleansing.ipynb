{
  "nbformat": 4,
  "nbformat_minor": 0,
  "metadata": {
    "colab": {
      "name": "items-cleansing.ipynb",
      "provenance": []
    },
    "kernelspec": {
      "name": "python3",
      "display_name": "Python 3"
    }
  },
  "cells": [
    {
      "cell_type": "code",
      "metadata": {
        "id": "-Dv2grHWLdZK",
        "colab_type": "code",
        "colab": {}
      },
      "source": [
        "import os\n",
        "\n",
        "import pandas as pd\n",
        "\n",
        "from lxml import etree as ET"
      ],
      "execution_count": 0,
      "outputs": []
    },
    {
      "cell_type": "code",
      "metadata": {
        "id": "PxcDKHq7Ligg",
        "colab_type": "code",
        "colab": {}
      },
      "source": [
        "df = pd.read_csv(\"/content/drive/My Drive/colab/items.csv\")"
      ],
      "execution_count": 0,
      "outputs": []
    },
    {
      "cell_type": "code",
      "metadata": {
        "id": "uEkFEenIMWHj",
        "colab_type": "code",
        "colab": {
          "base_uri": "https://localhost:8080/",
          "height": 581
        },
        "outputId": "1c2b668c-d4a8-4d5e-dfc1-8fea41329ac2"
      },
      "source": [
        "df.head()"
      ],
      "execution_count": 31,
      "outputs": [
        {
          "output_type": "execute_result",
          "data": {
            "text/html": [
              "<div>\n",
              "<style scoped>\n",
              "    .dataframe tbody tr th:only-of-type {\n",
              "        vertical-align: middle;\n",
              "    }\n",
              "\n",
              "    .dataframe tbody tr th {\n",
              "        vertical-align: top;\n",
              "    }\n",
              "\n",
              "    .dataframe thead th {\n",
              "        text-align: right;\n",
              "    }\n",
              "</style>\n",
              "<table border=\"1\" class=\"dataframe\">\n",
              "  <thead>\n",
              "    <tr style=\"text-align: right;\">\n",
              "      <th></th>\n",
              "      <th>uniq_id</th>\n",
              "      <th>product_name</th>\n",
              "      <th>manufacturer</th>\n",
              "      <th>price</th>\n",
              "      <th>number_available_in_stock</th>\n",
              "      <th>number_of_reviews</th>\n",
              "      <th>number_of_answered_questions</th>\n",
              "      <th>average_review_rating</th>\n",
              "      <th>amazon_category_and_sub_category</th>\n",
              "      <th>customers_who_bought_this_item_also_bought</th>\n",
              "      <th>description</th>\n",
              "      <th>product_information</th>\n",
              "      <th>product_description</th>\n",
              "      <th>items_customers_buy_after_viewing_this_item</th>\n",
              "      <th>customer_questions_and_answers</th>\n",
              "      <th>customer_reviews</th>\n",
              "      <th>sellers</th>\n",
              "    </tr>\n",
              "  </thead>\n",
              "  <tbody>\n",
              "    <tr>\n",
              "      <th>0</th>\n",
              "      <td>eac7efa5dbd3d667f26eb3d3ab504464</td>\n",
              "      <td>Hornby 2014 Catalogue</td>\n",
              "      <td>Hornby</td>\n",
              "      <td>£3.42</td>\n",
              "      <td>5 new</td>\n",
              "      <td>15</td>\n",
              "      <td>1.0</td>\n",
              "      <td>4.9 out of 5 stars</td>\n",
              "      <td>Hobbies &gt; Model Trains &amp; Railway Sets &gt; Rail V...</td>\n",
              "      <td>http://www.amazon.co.uk/Hornby-R8150-Catalogue...</td>\n",
              "      <td>Product Description Hornby 2014 Catalogue Box ...</td>\n",
              "      <td>Technical Details Item Weight640 g Product Dim...</td>\n",
              "      <td>Product Description Hornby 2014 Catalogue Box ...</td>\n",
              "      <td>http://www.amazon.co.uk/Hornby-R8150-Catalogue...</td>\n",
              "      <td>Does this catalogue detail all the previous Ho...</td>\n",
              "      <td>Worth Buying For The Pictures Alone (As Ever) ...</td>\n",
              "      <td>{\"seller\"=&gt;[{\"Seller_name_1\"=&gt;\"Amazon.co.uk\", ...</td>\n",
              "    </tr>\n",
              "    <tr>\n",
              "      <th>1</th>\n",
              "      <td>b17540ef7e86e461d37f3ae58b7b72ac</td>\n",
              "      <td>FunkyBuys® Large Christmas Holiday Express Fes...</td>\n",
              "      <td>FunkyBuys</td>\n",
              "      <td>£16.99</td>\n",
              "      <td>NaN</td>\n",
              "      <td>2</td>\n",
              "      <td>1.0</td>\n",
              "      <td>4.5 out of 5 stars</td>\n",
              "      <td>Hobbies &gt; Model Trains &amp; Railway Sets &gt; Rail V...</td>\n",
              "      <td>http://www.amazon.co.uk/Christmas-Holiday-Expr...</td>\n",
              "      <td>Size Name:Large FunkyBuys® Large Christmas Hol...</td>\n",
              "      <td>Technical Details Manufacturer recommended age...</td>\n",
              "      <td>Size Name:Large FunkyBuys® Large Christmas Hol...</td>\n",
              "      <td>http://www.amazon.co.uk/Christmas-Holiday-Expr...</td>\n",
              "      <td>can you turn off sounds // hi no you cant turn...</td>\n",
              "      <td>Four Stars // 4.0 // 18 Dec. 2015 // By\\n    \\...</td>\n",
              "      <td>{\"seller\"=&gt;{\"Seller_name_1\"=&gt;\"UHD WHOLESALE\", ...</td>\n",
              "    </tr>\n",
              "    <tr>\n",
              "      <th>2</th>\n",
              "      <td>348f344247b0c1a935b1223072ef9d8a</td>\n",
              "      <td>CLASSIC TOY TRAIN SET TRACK CARRIAGES LIGHT EN...</td>\n",
              "      <td>ccf</td>\n",
              "      <td>£9.99</td>\n",
              "      <td>2 new</td>\n",
              "      <td>17</td>\n",
              "      <td>2.0</td>\n",
              "      <td>3.9 out of 5 stars</td>\n",
              "      <td>Hobbies &gt; Model Trains &amp; Railway Sets &gt; Rail V...</td>\n",
              "      <td>http://www.amazon.co.uk/Classic-Train-Lights-B...</td>\n",
              "      <td>BIG CLASSIC TOY TRAIN SET TRACK CARRIAGE LIGHT...</td>\n",
              "      <td>Technical Details Manufacturer recommended age...</td>\n",
              "      <td>BIG CLASSIC TOY TRAIN SET TRACK CARRIAGE LIGHT...</td>\n",
              "      <td>http://www.amazon.co.uk/Train-With-Tracks-Batt...</td>\n",
              "      <td>What is the gauge of the track // Hi Paul.Trut...</td>\n",
              "      <td>**Highly Recommended!** // 5.0 // 26 May 2015 ...</td>\n",
              "      <td>{\"seller\"=&gt;[{\"Seller_name_1\"=&gt;\"DEAL-BOX\", \"Sel...</td>\n",
              "    </tr>\n",
              "    <tr>\n",
              "      <th>3</th>\n",
              "      <td>e12b92dbb8eaee78b22965d2a9bbbd9f</td>\n",
              "      <td>HORNBY Coach R4410A BR Hawksworth Corridor 3rd</td>\n",
              "      <td>Hornby</td>\n",
              "      <td>£39.99</td>\n",
              "      <td>NaN</td>\n",
              "      <td>1</td>\n",
              "      <td>2.0</td>\n",
              "      <td>5.0 out of 5 stars</td>\n",
              "      <td>Hobbies &gt; Model Trains &amp; Railway Sets &gt; Rail V...</td>\n",
              "      <td>NaN</td>\n",
              "      <td>Hornby 00 Gauge BR Hawksworth 3rd Class W 2107...</td>\n",
              "      <td>Technical Details Item Weight259 g Product Dim...</td>\n",
              "      <td>Hornby 00 Gauge BR Hawksworth 3rd Class W 2107...</td>\n",
              "      <td>NaN</td>\n",
              "      <td>NaN</td>\n",
              "      <td>I love it // 5.0 // 22 July 2013 // By\\n    \\n...</td>\n",
              "      <td>NaN</td>\n",
              "    </tr>\n",
              "    <tr>\n",
              "      <th>4</th>\n",
              "      <td>e33a9adeed5f36840ccc227db4682a36</td>\n",
              "      <td>Hornby 00 Gauge 0-4-0 Gildenlow Salt Co. Steam...</td>\n",
              "      <td>Hornby</td>\n",
              "      <td>£32.19</td>\n",
              "      <td>NaN</td>\n",
              "      <td>3</td>\n",
              "      <td>2.0</td>\n",
              "      <td>4.7 out of 5 stars</td>\n",
              "      <td>Hobbies &gt; Model Trains &amp; Railway Sets &gt; Rail V...</td>\n",
              "      <td>http://www.amazon.co.uk/Hornby-R6367-RailRoad-...</td>\n",
              "      <td>Product Description Hornby RailRoad 0-4-0 Gild...</td>\n",
              "      <td>Technical Details Item Weight159 g Product Dim...</td>\n",
              "      <td>Product Description Hornby RailRoad 0-4-0 Gild...</td>\n",
              "      <td>http://www.amazon.co.uk/Hornby-R2672-RailRoad-...</td>\n",
              "      <td>NaN</td>\n",
              "      <td>Birthday present // 5.0 // 14 April 2014 // By...</td>\n",
              "      <td>NaN</td>\n",
              "    </tr>\n",
              "  </tbody>\n",
              "</table>\n",
              "</div>"
            ],
            "text/plain": [
              "                            uniq_id  ...                                            sellers\n",
              "0  eac7efa5dbd3d667f26eb3d3ab504464  ...  {\"seller\"=>[{\"Seller_name_1\"=>\"Amazon.co.uk\", ...\n",
              "1  b17540ef7e86e461d37f3ae58b7b72ac  ...  {\"seller\"=>{\"Seller_name_1\"=>\"UHD WHOLESALE\", ...\n",
              "2  348f344247b0c1a935b1223072ef9d8a  ...  {\"seller\"=>[{\"Seller_name_1\"=>\"DEAL-BOX\", \"Sel...\n",
              "3  e12b92dbb8eaee78b22965d2a9bbbd9f  ...                                                NaN\n",
              "4  e33a9adeed5f36840ccc227db4682a36  ...                                                NaN\n",
              "\n",
              "[5 rows x 17 columns]"
            ]
          },
          "metadata": {
            "tags": []
          },
          "execution_count": 31
        }
      ]
    },
    {
      "cell_type": "code",
      "metadata": {
        "id": "rjaZJ-vdMktW",
        "colab_type": "code",
        "colab": {
          "base_uri": "https://localhost:8080/",
          "height": 204
        },
        "outputId": "74a59446-254d-46ce-b7a5-b5ce99632385"
      },
      "source": [
        "df = df.drop(\n",
        "    columns=[\n",
        "        \"manufacturer\", \"price\", \"number_available_in_stock\", \n",
        "        \"number_of_reviews\", \"number_of_answered_questions\", \n",
        "        \"average_review_rating\", \"customers_who_bought_this_item_also_bought\",\n",
        "        \"description\", \"product_information\", \"product_description\",\n",
        "        \"items_customers_buy_after_viewing_this_item\", \n",
        "        \"customer_questions_and_answers\", \"customer_reviews\", \"sellers\",\n",
        "    ],\n",
        ")\n",
        "df.head()"
      ],
      "execution_count": 32,
      "outputs": [
        {
          "output_type": "execute_result",
          "data": {
            "text/html": [
              "<div>\n",
              "<style scoped>\n",
              "    .dataframe tbody tr th:only-of-type {\n",
              "        vertical-align: middle;\n",
              "    }\n",
              "\n",
              "    .dataframe tbody tr th {\n",
              "        vertical-align: top;\n",
              "    }\n",
              "\n",
              "    .dataframe thead th {\n",
              "        text-align: right;\n",
              "    }\n",
              "</style>\n",
              "<table border=\"1\" class=\"dataframe\">\n",
              "  <thead>\n",
              "    <tr style=\"text-align: right;\">\n",
              "      <th></th>\n",
              "      <th>uniq_id</th>\n",
              "      <th>product_name</th>\n",
              "      <th>amazon_category_and_sub_category</th>\n",
              "    </tr>\n",
              "  </thead>\n",
              "  <tbody>\n",
              "    <tr>\n",
              "      <th>0</th>\n",
              "      <td>eac7efa5dbd3d667f26eb3d3ab504464</td>\n",
              "      <td>Hornby 2014 Catalogue</td>\n",
              "      <td>Hobbies &gt; Model Trains &amp; Railway Sets &gt; Rail V...</td>\n",
              "    </tr>\n",
              "    <tr>\n",
              "      <th>1</th>\n",
              "      <td>b17540ef7e86e461d37f3ae58b7b72ac</td>\n",
              "      <td>FunkyBuys® Large Christmas Holiday Express Fes...</td>\n",
              "      <td>Hobbies &gt; Model Trains &amp; Railway Sets &gt; Rail V...</td>\n",
              "    </tr>\n",
              "    <tr>\n",
              "      <th>2</th>\n",
              "      <td>348f344247b0c1a935b1223072ef9d8a</td>\n",
              "      <td>CLASSIC TOY TRAIN SET TRACK CARRIAGES LIGHT EN...</td>\n",
              "      <td>Hobbies &gt; Model Trains &amp; Railway Sets &gt; Rail V...</td>\n",
              "    </tr>\n",
              "    <tr>\n",
              "      <th>3</th>\n",
              "      <td>e12b92dbb8eaee78b22965d2a9bbbd9f</td>\n",
              "      <td>HORNBY Coach R4410A BR Hawksworth Corridor 3rd</td>\n",
              "      <td>Hobbies &gt; Model Trains &amp; Railway Sets &gt; Rail V...</td>\n",
              "    </tr>\n",
              "    <tr>\n",
              "      <th>4</th>\n",
              "      <td>e33a9adeed5f36840ccc227db4682a36</td>\n",
              "      <td>Hornby 00 Gauge 0-4-0 Gildenlow Salt Co. Steam...</td>\n",
              "      <td>Hobbies &gt; Model Trains &amp; Railway Sets &gt; Rail V...</td>\n",
              "    </tr>\n",
              "  </tbody>\n",
              "</table>\n",
              "</div>"
            ],
            "text/plain": [
              "                            uniq_id  ...                   amazon_category_and_sub_category\n",
              "0  eac7efa5dbd3d667f26eb3d3ab504464  ...  Hobbies > Model Trains & Railway Sets > Rail V...\n",
              "1  b17540ef7e86e461d37f3ae58b7b72ac  ...  Hobbies > Model Trains & Railway Sets > Rail V...\n",
              "2  348f344247b0c1a935b1223072ef9d8a  ...  Hobbies > Model Trains & Railway Sets > Rail V...\n",
              "3  e12b92dbb8eaee78b22965d2a9bbbd9f  ...  Hobbies > Model Trains & Railway Sets > Rail V...\n",
              "4  e33a9adeed5f36840ccc227db4682a36  ...  Hobbies > Model Trains & Railway Sets > Rail V...\n",
              "\n",
              "[5 rows x 3 columns]"
            ]
          },
          "metadata": {
            "tags": []
          },
          "execution_count": 32
        }
      ]
    },
    {
      "cell_type": "code",
      "metadata": {
        "id": "SILtJrLoN6aW",
        "colab_type": "code",
        "colab": {
          "base_uri": "https://localhost:8080/",
          "height": 204
        },
        "outputId": "e70e08a0-42f9-4af8-850a-105fa58b0788"
      },
      "source": [
        "df = df.rename(\n",
        "    columns={\n",
        "        \"uniq_id\": \"id\",\n",
        "        \"product_name\": \"title\",\n",
        "        \"amazon_category_and_sub_category\": \"category\",\n",
        "    },\n",
        ")\n",
        "df.head()"
      ],
      "execution_count": 33,
      "outputs": [
        {
          "output_type": "execute_result",
          "data": {
            "text/html": [
              "<div>\n",
              "<style scoped>\n",
              "    .dataframe tbody tr th:only-of-type {\n",
              "        vertical-align: middle;\n",
              "    }\n",
              "\n",
              "    .dataframe tbody tr th {\n",
              "        vertical-align: top;\n",
              "    }\n",
              "\n",
              "    .dataframe thead th {\n",
              "        text-align: right;\n",
              "    }\n",
              "</style>\n",
              "<table border=\"1\" class=\"dataframe\">\n",
              "  <thead>\n",
              "    <tr style=\"text-align: right;\">\n",
              "      <th></th>\n",
              "      <th>id</th>\n",
              "      <th>title</th>\n",
              "      <th>category</th>\n",
              "    </tr>\n",
              "  </thead>\n",
              "  <tbody>\n",
              "    <tr>\n",
              "      <th>0</th>\n",
              "      <td>eac7efa5dbd3d667f26eb3d3ab504464</td>\n",
              "      <td>Hornby 2014 Catalogue</td>\n",
              "      <td>Hobbies &gt; Model Trains &amp; Railway Sets &gt; Rail V...</td>\n",
              "    </tr>\n",
              "    <tr>\n",
              "      <th>1</th>\n",
              "      <td>b17540ef7e86e461d37f3ae58b7b72ac</td>\n",
              "      <td>FunkyBuys® Large Christmas Holiday Express Fes...</td>\n",
              "      <td>Hobbies &gt; Model Trains &amp; Railway Sets &gt; Rail V...</td>\n",
              "    </tr>\n",
              "    <tr>\n",
              "      <th>2</th>\n",
              "      <td>348f344247b0c1a935b1223072ef9d8a</td>\n",
              "      <td>CLASSIC TOY TRAIN SET TRACK CARRIAGES LIGHT EN...</td>\n",
              "      <td>Hobbies &gt; Model Trains &amp; Railway Sets &gt; Rail V...</td>\n",
              "    </tr>\n",
              "    <tr>\n",
              "      <th>3</th>\n",
              "      <td>e12b92dbb8eaee78b22965d2a9bbbd9f</td>\n",
              "      <td>HORNBY Coach R4410A BR Hawksworth Corridor 3rd</td>\n",
              "      <td>Hobbies &gt; Model Trains &amp; Railway Sets &gt; Rail V...</td>\n",
              "    </tr>\n",
              "    <tr>\n",
              "      <th>4</th>\n",
              "      <td>e33a9adeed5f36840ccc227db4682a36</td>\n",
              "      <td>Hornby 00 Gauge 0-4-0 Gildenlow Salt Co. Steam...</td>\n",
              "      <td>Hobbies &gt; Model Trains &amp; Railway Sets &gt; Rail V...</td>\n",
              "    </tr>\n",
              "  </tbody>\n",
              "</table>\n",
              "</div>"
            ],
            "text/plain": [
              "                                 id  ...                                           category\n",
              "0  eac7efa5dbd3d667f26eb3d3ab504464  ...  Hobbies > Model Trains & Railway Sets > Rail V...\n",
              "1  b17540ef7e86e461d37f3ae58b7b72ac  ...  Hobbies > Model Trains & Railway Sets > Rail V...\n",
              "2  348f344247b0c1a935b1223072ef9d8a  ...  Hobbies > Model Trains & Railway Sets > Rail V...\n",
              "3  e12b92dbb8eaee78b22965d2a9bbbd9f  ...  Hobbies > Model Trains & Railway Sets > Rail V...\n",
              "4  e33a9adeed5f36840ccc227db4682a36  ...  Hobbies > Model Trains & Railway Sets > Rail V...\n",
              "\n",
              "[5 rows x 3 columns]"
            ]
          },
          "metadata": {
            "tags": []
          },
          "execution_count": 33
        }
      ]
    },
    {
      "cell_type": "code",
      "metadata": {
        "id": "k91bp-eRfXw6",
        "colab_type": "code",
        "colab": {
          "base_uri": "https://localhost:8080/",
          "height": 35
        },
        "outputId": "d190895b-ec58-4029-f690-aeb3ef5f656a"
      },
      "source": [
        "df = df.dropna()\n",
        "df.shape"
      ],
      "execution_count": 78,
      "outputs": [
        {
          "output_type": "execute_result",
          "data": {
            "text/plain": [
              "(9310, 3)"
            ]
          },
          "metadata": {
            "tags": []
          },
          "execution_count": 78
        }
      ]
    },
    {
      "cell_type": "code",
      "metadata": {
        "id": "dg5raNPig2cP",
        "colab_type": "code",
        "colab": {}
      },
      "source": [
        "df.to_csv(\"items.csv\", index=False)"
      ],
      "execution_count": 0,
      "outputs": []
    },
    {
      "cell_type": "code",
      "metadata": {
        "id": "_yfiFUFSQQla",
        "colab_type": "code",
        "colab": {
          "base_uri": "https://localhost:8080/",
          "height": 89
        },
        "outputId": "b4bd4d7f-dc40-414e-f18f-debee12b77ef"
      },
      "source": [
        "row = df.loc[0]\n",
        "row"
      ],
      "execution_count": 56,
      "outputs": [
        {
          "output_type": "execute_result",
          "data": {
            "text/plain": [
              "id                           eac7efa5dbd3d667f26eb3d3ab504464\n",
              "title                                   Hornby 2014 Catalogue\n",
              "category    Hobbies > Model Trains & Railway Sets > Rail V...\n",
              "Name: 0, dtype: object"
            ]
          },
          "metadata": {
            "tags": []
          },
          "execution_count": 56
        }
      ]
    },
    {
      "cell_type": "code",
      "metadata": {
        "id": "D5E7PCAQV4f-",
        "colab_type": "code",
        "colab": {}
      },
      "source": [
        "items = ET.Element(\"items\")"
      ],
      "execution_count": 0,
      "outputs": []
    },
    {
      "cell_type": "code",
      "metadata": {
        "id": "jr7qQGVGd8Ot",
        "colab_type": "code",
        "colab": {
          "base_uri": "https://localhost:8080/",
          "height": 1000
        },
        "outputId": "e1d8bdcb-a4fa-4ef8-f90a-4b19a6e788e2"
      },
      "source": [
        "for index, row in df.iterrows():\n",
        "    item = ET.SubElement(items, \"item\")\n",
        "\n",
        "    id_ = ET.SubElement(item, \"id\")\n",
        "    id_.text = row.id\n",
        "\n",
        "    title = ET.SubElement(item, \"title\")\n",
        "    title.text = row.title \n",
        "    \n",
        "    category = ET.SubElement(item, \"category\")\n",
        "    category.text = row.category\n",
        "    \n",
        "    if index % 100 == 0:\n",
        "        print(f\"{index + 1} / {df.shape[0]}\")"
      ],
      "execution_count": 85,
      "outputs": [
        {
          "output_type": "stream",
          "text": [
            "1 / 9310\n",
            "101 / 9310\n",
            "401 / 9310\n",
            "501 / 9310\n",
            "601 / 9310\n",
            "801 / 9310\n",
            "901 / 9310\n",
            "1001 / 9310\n",
            "1101 / 9310\n",
            "1201 / 9310\n",
            "1301 / 9310\n",
            "1401 / 9310\n",
            "1501 / 9310\n",
            "1601 / 9310\n",
            "1701 / 9310\n",
            "1801 / 9310\n",
            "1901 / 9310\n",
            "2001 / 9310\n",
            "2101 / 9310\n",
            "2201 / 9310\n",
            "2301 / 9310\n",
            "2501 / 9310\n",
            "2601 / 9310\n",
            "2701 / 9310\n",
            "2801 / 9310\n",
            "2901 / 9310\n",
            "3001 / 9310\n",
            "3101 / 9310\n",
            "3201 / 9310\n",
            "3301 / 9310\n",
            "3401 / 9310\n",
            "3501 / 9310\n",
            "3601 / 9310\n",
            "3701 / 9310\n",
            "3801 / 9310\n",
            "3901 / 9310\n",
            "4001 / 9310\n",
            "4101 / 9310\n",
            "4201 / 9310\n",
            "4301 / 9310\n",
            "4501 / 9310\n",
            "4601 / 9310\n",
            "4701 / 9310\n",
            "4801 / 9310\n",
            "4901 / 9310\n",
            "5001 / 9310\n",
            "5101 / 9310\n",
            "5201 / 9310\n",
            "5301 / 9310\n",
            "5401 / 9310\n",
            "5501 / 9310\n",
            "5601 / 9310\n",
            "5701 / 9310\n",
            "5801 / 9310\n",
            "5901 / 9310\n",
            "6001 / 9310\n",
            "6101 / 9310\n",
            "6201 / 9310\n",
            "6301 / 9310\n",
            "6401 / 9310\n",
            "6501 / 9310\n",
            "6601 / 9310\n",
            "6701 / 9310\n",
            "6801 / 9310\n",
            "7001 / 9310\n",
            "7101 / 9310\n",
            "7201 / 9310\n",
            "7301 / 9310\n",
            "7401 / 9310\n",
            "7501 / 9310\n",
            "7601 / 9310\n",
            "7701 / 9310\n",
            "7801 / 9310\n",
            "7901 / 9310\n",
            "8001 / 9310\n",
            "8101 / 9310\n",
            "8201 / 9310\n",
            "8301 / 9310\n",
            "8401 / 9310\n",
            "8501 / 9310\n",
            "8601 / 9310\n",
            "8701 / 9310\n",
            "8801 / 9310\n",
            "8901 / 9310\n",
            "9001 / 9310\n",
            "9101 / 9310\n",
            "9201 / 9310\n",
            "9301 / 9310\n",
            "9401 / 9310\n",
            "9501 / 9310\n",
            "9601 / 9310\n",
            "9701 / 9310\n",
            "9801 / 9310\n",
            "9901 / 9310\n"
          ],
          "name": "stdout"
        }
      ]
    },
    {
      "cell_type": "code",
      "metadata": {
        "id": "W_fp7zs2emgl",
        "colab_type": "code",
        "colab": {}
      },
      "source": [
        "tree = ET.ElementTree(items)\n",
        "tree.write(\"items.xml\", pretty_print=True)"
      ],
      "execution_count": 0,
      "outputs": []
    }
  ]
}